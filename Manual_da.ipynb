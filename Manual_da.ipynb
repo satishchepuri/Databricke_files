{
 "cells": [
  {
   "cell_type": "code",
   "execution_count": 1,
   "id": "f8bf69f7",
   "metadata": {
    "collapsed": true
   },
   "outputs": [
    {
     "name": "stdout",
     "output_type": "stream",
     "text": [
      "Requirement already satisfied: pandas in c:\\users\\satis\\anaconda3\\lib\\site-packages (1.2.4)\n",
      "Requirement already satisfied: pytz>=2017.3 in c:\\users\\satis\\anaconda3\\lib\\site-packages (from pandas) (2021.1)\n",
      "Requirement already satisfied: numpy>=1.16.5 in c:\\users\\satis\\anaconda3\\lib\\site-packages (from pandas) (1.20.1)\n",
      "Requirement already satisfied: python-dateutil>=2.7.3 in c:\\users\\satis\\anaconda3\\lib\\site-packages (from pandas) (2.8.1)\n",
      "Requirement already satisfied: six>=1.5 in c:\\users\\satis\\anaconda3\\lib\\site-packages (from python-dateutil>=2.7.3->pandas) (1.15.0)\n"
     ]
    }
   ],
   "source": [
    "!pip install pandas"
   ]
  },
  {
   "cell_type": "code",
   "execution_count": 2,
   "id": "796086eb",
   "metadata": {
    "collapsed": true
   },
   "outputs": [
    {
     "name": "stdout",
     "output_type": "stream",
     "text": [
      "alabaster @ file:///home/ktietz/src/ci/alabaster_1611921544520/work\n",
      "anaconda-client==1.7.2\n",
      "anaconda-navigator==2.0.3\n",
      "anaconda-project @ file:///tmp/build/80754af9/anaconda-project_1610472525955/work\n",
      "anyio @ file:///C:/ci/anyio_1620153418380/work/dist\n",
      "appdirs==1.4.4\n",
      "argh==0.26.2\n",
      "argon2-cffi @ file:///C:/ci/argon2-cffi_1613037959010/work\n",
      "asn1crypto @ file:///tmp/build/80754af9/asn1crypto_1596577642040/work\n",
      "astroid @ file:///C:/ci/astroid_1613501047216/work\n",
      "astropy @ file:///C:/ci/astropy_1617745647203/work\n",
      "async-generator @ file:///home/ktietz/src/ci/async_generator_1611927993394/work\n",
      "atomicwrites==1.4.0\n",
      "attrs @ file:///tmp/build/80754af9/attrs_1604765588209/work\n",
      "autopep8 @ file:///tmp/build/80754af9/autopep8_1615918855173/work\n",
      "Babel @ file:///tmp/build/80754af9/babel_1607110387436/work\n",
      "backcall @ file:///home/ktietz/src/ci/backcall_1611930011877/work\n",
      "backports.functools-lru-cache @ file:///tmp/build/80754af9/backports.functools_lru_cache_1618170165463/work\n",
      "backports.shutil-get-terminal-size @ file:///tmp/build/80754af9/backports.shutil_get_terminal_size_1608222128777/work\n",
      "backports.tempfile @ file:///home/linux1/recipes/ci/backports.tempfile_1610991236607/work\n",
      "backports.weakref==1.0.post1\n",
      "bcrypt @ file:///C:/ci/bcrypt_1597936263757/work\n",
      "beautifulsoup4 @ file:///home/linux1/recipes/ci/beautifulsoup4_1610988766420/work\n",
      "bitarray @ file:///C:/ci/bitarray_1618435038389/work\n",
      "bkcharts==0.2\n",
      "black==19.10b0\n",
      "bleach @ file:///tmp/build/80754af9/bleach_1612211392645/work\n",
      "bokeh @ file:///C:/ci/bokeh_1620784067744/work\n",
      "boto==2.49.0\n",
      "Bottleneck==1.3.2\n",
      "brotlipy==0.7.0\n",
      "certifi==2020.12.5\n",
      "cffi @ file:///C:/ci/cffi_1613247279197/work\n",
      "chardet @ file:///C:/ci/chardet_1607690654534/work\n",
      "click @ file:///home/linux1/recipes/ci/click_1610990599742/work\n",
      "cloudpickle @ file:///tmp/build/80754af9/cloudpickle_1598884132938/work\n",
      "clyent==1.2.2\n",
      "colorama @ file:///tmp/build/80754af9/colorama_1607707115595/work\n",
      "comtypes==1.1.9\n",
      "conda==4.10.1\n",
      "conda-build==3.21.4\n",
      "conda-content-trust @ file:///tmp/build/80754af9/conda-content-trust_1617045594566/work\n",
      "conda-package-handling @ file:///C:/ci/conda-package-handling_1618262320430/work\n",
      "conda-repo-cli @ file:///tmp/build/80754af9/conda-repo-cli_1620168426516/work\n",
      "conda-token @ file:///tmp/build/80754af9/conda-token_1620076980546/work\n",
      "conda-verify==3.4.2\n",
      "contextlib2==0.6.0.post1\n",
      "cryptography @ file:///C:/ci/cryptography_1616769344312/work\n",
      "cycler==0.10.0\n",
      "Cython @ file:///C:/ci/cython_1618435363327/work\n",
      "cytoolz==0.11.0\n",
      "dask @ file:///tmp/build/80754af9/dask-core_1617390489108/work\n",
      "decorator @ file:///tmp/build/80754af9/decorator_1617916966915/work\n",
      "defusedxml @ file:///tmp/build/80754af9/defusedxml_1615228127516/work\n",
      "diff-match-patch @ file:///tmp/build/80754af9/diff-match-patch_1594828741838/work\n",
      "distributed @ file:///C:/ci/distributed_1617384289923/work\n",
      "docutils @ file:///C:/ci/docutils_1617481617511/work\n",
      "entrypoints==0.3\n",
      "et-xmlfile==1.0.1\n",
      "fastcache==1.1.0\n",
      "filelock @ file:///home/linux1/recipes/ci/filelock_1610993975404/work\n",
      "flake8 @ file:///tmp/build/80754af9/flake8_1615834841867/work\n",
      "Flask @ file:///home/ktietz/src/ci/flask_1611932660458/work\n",
      "fsspec @ file:///tmp/build/80754af9/fsspec_1617959894824/work\n",
      "future==0.18.2\n",
      "gevent @ file:///C:/ci/gevent_1616773090559/work\n",
      "glob2 @ file:///home/linux1/recipes/ci/glob2_1610991677669/work\n",
      "greenlet @ file:///C:/ci/greenlet_1611958565931/work\n",
      "h5py==2.10.0\n",
      "HeapDict==1.0.1\n",
      "html5lib @ file:///tmp/build/80754af9/html5lib_1593446221756/work\n",
      "htmlmin==0.1.12\n",
      "idna @ file:///home/linux1/recipes/ci/idna_1610986105248/work\n",
      "imagecodecs @ file:///C:/ci/imagecodecs_1617996768495/work\n",
      "ImageHash==4.2.0\n",
      "imageio @ file:///tmp/build/80754af9/imageio_1617700267927/work\n",
      "imagesize @ file:///home/ktietz/src/ci/imagesize_1611921604382/work\n",
      "importlib-metadata @ file:///C:/ci/importlib-metadata_1617877484576/work\n",
      "iniconfig @ file:///home/linux1/recipes/ci/iniconfig_1610983019677/work\n",
      "intervaltree @ file:///tmp/build/80754af9/intervaltree_1598376443606/work\n",
      "ipykernel @ file:///C:/ci/ipykernel_1596190155316/work/dist/ipykernel-5.3.4-py3-none-any.whl\n",
      "ipython @ file:///C:/ci/ipython_1617121002983/work\n",
      "ipython-genutils @ file:///tmp/build/80754af9/ipython_genutils_1606773439826/work\n",
      "ipywidgets @ file:///tmp/build/80754af9/ipywidgets_1610481889018/work\n",
      "isort @ file:///tmp/build/80754af9/isort_1616355431277/work\n",
      "itsdangerous @ file:///home/ktietz/src/ci/itsdangerous_1611932585308/work\n",
      "jdcal==1.4.1\n",
      "jedi @ file:///C:/ci/jedi_1606914528444/work\n",
      "Jinja2 @ file:///tmp/build/80754af9/jinja2_1612213139570/work\n",
      "joblib @ file:///tmp/build/80754af9/joblib_1613502643832/work\n",
      "json5==0.9.5\n",
      "jsonschema @ file:///tmp/build/80754af9/jsonschema_1602607155483/work\n",
      "jupyter==1.0.0\n",
      "jupyter-client @ file:///tmp/build/80754af9/jupyter_client_1616770841739/work\n",
      "jupyter-console @ file:///tmp/build/80754af9/jupyter_console_1616615302928/work\n",
      "jupyter-core @ file:///C:/ci/jupyter_core_1612213356021/work\n",
      "jupyter-packaging @ file:///tmp/build/80754af9/jupyter-packaging_1613502826984/work\n",
      "jupyter-server @ file:///C:/ci/jupyter_server_1616084298403/work\n",
      "jupyterlab @ file:///tmp/build/80754af9/jupyterlab_1619133235951/work\n",
      "jupyterlab-pygments @ file:///tmp/build/80754af9/jupyterlab_pygments_1601490720602/work\n",
      "jupyterlab-server @ file:///tmp/build/80754af9/jupyterlab_server_1617134334258/work\n",
      "jupyterlab-widgets @ file:///tmp/build/80754af9/jupyterlab_widgets_1609884341231/work\n",
      "keyring @ file:///C:/ci/keyring_1614616910860/work\n",
      "kiwisolver @ file:///C:/ci/kiwisolver_1612282606037/work\n",
      "lazy-object-proxy @ file:///C:/ci/lazy-object-proxy_1616529307648/work\n",
      "libarchive-c @ file:///tmp/build/80754af9/python-libarchive-c_1617780486945/work\n",
      "llvmlite==0.36.0\n",
      "locket==0.2.1\n",
      "lxml @ file:///C:/ci/lxml_1616443455957/work\n",
      "MarkupSafe==1.1.1\n",
      "matplotlib @ file:///C:/ci/matplotlib-suite_1613408055530/work\n",
      "mccabe==0.6.1\n",
      "menuinst==1.4.16\n",
      "missingno==0.4.2\n",
      "mistune==0.8.4\n",
      "mkl-fft==1.3.0\n",
      "mkl-random @ file:///C:/ci/mkl_random_1618854156666/work\n",
      "mkl-service==2.3.0\n",
      "mock @ file:///tmp/build/80754af9/mock_1607622725907/work\n",
      "more-itertools @ file:///tmp/build/80754af9/more-itertools_1613676688952/work\n",
      "mpmath==1.2.1\n",
      "msgpack @ file:///C:/ci/msgpack-python_1612287368835/work\n",
      "multimethod==1.4\n",
      "multipledispatch==0.6.0\n",
      "mypy-extensions==0.4.3\n",
      "navigator-updater==0.2.1\n",
      "nbclassic @ file:///tmp/build/80754af9/nbclassic_1616085367084/work\n",
      "nbclient @ file:///tmp/build/80754af9/nbclient_1614364831625/work\n",
      "nbconvert @ file:///C:/ci/nbconvert_1601914925608/work\n",
      "nbformat @ file:///tmp/build/80754af9/nbformat_1617383369282/work\n",
      "nest-asyncio @ file:///tmp/build/80754af9/nest-asyncio_1613680548246/work\n",
      "networkx @ file:///tmp/build/80754af9/networkx_1598376031484/work\n",
      "nltk @ file:///tmp/build/80754af9/nltk_1618327084230/work\n",
      "nose @ file:///tmp/build/80754af9/nose_1606773131901/work\n",
      "notebook @ file:///C:/ci/notebook_1616443715883/work\n",
      "numba @ file:///C:/ci/numba_1616774458845/work\n",
      "numexpr @ file:///C:/ci/numexpr_1618856738664/work\n",
      "numpy @ file:///C:/ci/numpy_and_numpy_base_1618497418457/work\n",
      "numpydoc @ file:///tmp/build/80754af9/numpydoc_1605117425582/work\n",
      "olefile==0.46\n",
      "openpyxl @ file:///tmp/build/80754af9/openpyxl_1615411699337/work\n",
      "packaging @ file:///tmp/build/80754af9/packaging_1611952188834/work\n",
      "pandas @ file:///C:/ci/pandas_1618365634936/work\n",
      "pandas-profiling==3.0.0\n",
      "pandocfilters @ file:///C:/ci/pandocfilters_1605102497129/work\n",
      "paramiko @ file:///tmp/build/80754af9/paramiko_1598886428689/work\n",
      "parso==0.7.0\n",
      "partd @ file:///tmp/build/80754af9/partd_1618000087440/work\n",
      "path @ file:///C:/ci/path_1614022440181/work\n",
      "pathlib2 @ file:///C:/ci/pathlib2_1607025069150/work\n",
      "pathspec==0.7.0\n",
      "patsy==0.5.1\n",
      "pep8==1.7.1\n",
      "pexpect @ file:///tmp/build/80754af9/pexpect_1605563209008/work\n",
      "phik==0.11.2\n",
      "pickleshare @ file:///tmp/build/80754af9/pickleshare_1606932040724/work\n",
      "Pillow @ file:///C:/ci/pillow_1617386341487/work\n",
      "pkginfo==1.7.0\n",
      "pluggy @ file:///C:/ci/pluggy_1615976358795/work\n",
      "ply==3.11\n",
      "prometheus-client @ file:///tmp/build/80754af9/prometheus_client_1618088486455/work\n",
      "prompt-toolkit @ file:///tmp/build/80754af9/prompt-toolkit_1616415428029/work\n",
      "psutil @ file:///C:/ci/psutil_1612298324802/work\n",
      "ptyprocess @ file:///tmp/build/80754af9/ptyprocess_1609355006118/work/dist/ptyprocess-0.7.0-py2.py3-none-any.whl\n",
      "py @ file:///tmp/build/80754af9/py_1607971587848/work\n",
      "pycodestyle @ file:///home/ktietz/src/ci_mi/pycodestyle_1612807597675/work\n",
      "pycosat==0.6.3\n",
      "pycparser @ file:///tmp/build/80754af9/pycparser_1594388511720/work\n",
      "pycurl==7.43.0.6\n",
      "pydantic==1.8.2\n",
      "pydocstyle @ file:///tmp/build/80754af9/pydocstyle_1616182067796/work\n",
      "pyerfa @ file:///C:/ci/pyerfa_1619391071834/work\n",
      "pyflakes @ file:///home/ktietz/src/ci_ipy2/pyflakes_1612551159640/work\n",
      "Pygments @ file:///tmp/build/80754af9/pygments_1615143339740/work\n",
      "pylint @ file:///C:/ci/pylint_1617136058775/work\n",
      "pyls-black @ file:///tmp/build/80754af9/pyls-black_1607553132291/work\n",
      "pyls-spyder @ file:///tmp/build/80754af9/pyls-spyder_1613849700860/work\n",
      "PyNaCl @ file:///C:/ci/pynacl_1595000047588/work\n",
      "pyodbc===4.0.0-unsupported\n",
      "pyOpenSSL @ file:///tmp/build/80754af9/pyopenssl_1608057966937/work\n",
      "pyparsing @ file:///home/linux1/recipes/ci/pyparsing_1610983426697/work\n",
      "pyreadline==2.1\n",
      "pyrsistent @ file:///C:/ci/pyrsistent_1600141795814/work\n",
      "PySocks @ file:///C:/ci/pysocks_1605287845585/work\n",
      "pytest==6.2.3\n",
      "python-dateutil @ file:///home/ktietz/src/ci/python-dateutil_1611928101742/work\n",
      "python-jsonrpc-server @ file:///tmp/build/80754af9/python-jsonrpc-server_1600278539111/work\n",
      "python-language-server @ file:///tmp/build/80754af9/python-language-server_1607972495879/work\n",
      "pytz @ file:///tmp/build/80754af9/pytz_1612215392582/work\n",
      "PyWavelets @ file:///C:/ci/pywavelets_1601658407916/work\n",
      "pywin32==227\n",
      "pywin32-ctypes==0.2.0\n",
      "pywinpty==0.5.7\n",
      "PyYAML==5.4.1\n",
      "pyzmq==20.0.0\n",
      "QDarkStyle==2.8.1\n",
      "QtAwesome @ file:///tmp/build/80754af9/qtawesome_1615991616277/work\n",
      "qtconsole @ file:///tmp/build/80754af9/qtconsole_1616775094278/work\n",
      "QtPy==1.9.0\n",
      "regex @ file:///C:/ci/regex_1617569893741/work\n",
      "requests @ file:///tmp/build/80754af9/requests_1608241421344/work\n",
      "rope @ file:///tmp/build/80754af9/rope_1602264064449/work\n",
      "Rtree @ file:///C:/ci/rtree_1618421009405/work\n",
      "ruamel-yaml-conda @ file:///C:/ci/ruamel_yaml_1616016967756/work\n",
      "scikit-image==0.18.1\n",
      "scikit-learn @ file:///C:/ci/scikit-learn_1614446896245/work\n",
      "scipy @ file:///C:/ci/scipy_1618856128765/work\n",
      "seaborn @ file:///tmp/build/80754af9/seaborn_1608578541026/work\n",
      "Send2Trash @ file:///tmp/build/80754af9/send2trash_1607525499227/work\n",
      "simplegeneric==0.8.1\n",
      "singledispatch @ file:///tmp/build/80754af9/singledispatch_1614366001199/work\n",
      "sip==4.19.13\n",
      "six @ file:///C:/ci/six_1605187374963/work\n",
      "sniffio @ file:///C:/ci/sniffio_1614030707456/work\n",
      "snowballstemmer @ file:///tmp/build/80754af9/snowballstemmer_1611258885636/work\n",
      "sortedcollections @ file:///tmp/build/80754af9/sortedcollections_1611172717284/work\n",
      "sortedcontainers @ file:///tmp/build/80754af9/sortedcontainers_1606865132123/work\n",
      "soupsieve @ file:///tmp/build/80754af9/soupsieve_1616183228191/work\n",
      "Sphinx @ file:///tmp/build/80754af9/sphinx_1620777493457/work\n",
      "sphinxcontrib-applehelp @ file:///home/ktietz/src/ci/sphinxcontrib-applehelp_1611920841464/work\n",
      "sphinxcontrib-devhelp @ file:///home/ktietz/src/ci/sphinxcontrib-devhelp_1611920923094/work\n",
      "sphinxcontrib-htmlhelp @ file:///home/ktietz/src/ci/sphinxcontrib-htmlhelp_1611920974801/work\n",
      "sphinxcontrib-jsmath @ file:///home/ktietz/src/ci/sphinxcontrib-jsmath_1611920942228/work\n",
      "sphinxcontrib-qthelp @ file:///home/ktietz/src/ci/sphinxcontrib-qthelp_1611921055322/work\n",
      "sphinxcontrib-serializinghtml @ file:///home/ktietz/src/ci/sphinxcontrib-serializinghtml_1611920755253/work\n",
      "sphinxcontrib-websupport @ file:///tmp/build/80754af9/sphinxcontrib-websupport_1597081412696/work\n",
      "spyder @ file:///C:/ci/spyder_1616776239898/work\n",
      "spyder-kernels @ file:///C:/ci/spyder-kernels_1614030842607/work\n",
      "SQLAlchemy @ file:///C:/ci/sqlalchemy_1618090063261/work\n",
      "statsmodels==0.12.2\n",
      "sympy @ file:///C:/ci/sympy_1618255511605/work\n",
      "tables==3.6.1\n",
      "tangled-up-in-unicode==0.1.0\n",
      "tblib @ file:///tmp/build/80754af9/tblib_1597928476713/work\n",
      "terminado==0.9.4\n",
      "testpath @ file:///home/ktietz/src/ci/testpath_1611930608132/work\n",
      "textdistance @ file:///tmp/build/80754af9/textdistance_1612461398012/work\n",
      "threadpoolctl @ file:///tmp/tmp9twdgx9k/threadpoolctl-2.1.0-py3-none-any.whl\n",
      "three-merge @ file:///tmp/build/80754af9/three-merge_1607553261110/work\n",
      "tifffile @ file:///tmp/build/80754af9/tifffile_1619636090847/work\n",
      "toml @ file:///tmp/build/80754af9/toml_1616166611790/work\n",
      "toolz @ file:///home/linux1/recipes/ci/toolz_1610987900194/work\n",
      "tornado @ file:///C:/ci/tornado_1606942392901/work\n",
      "tqdm @ file:///tmp/build/80754af9/tqdm_1615925068909/work\n",
      "traitlets @ file:///home/ktietz/src/ci/traitlets_1611929699868/work\n",
      "typed-ast @ file:///C:/ci/typed-ast_1610466535590/work\n",
      "typing-extensions @ file:///home/ktietz/src/ci_mi/typing_extensions_1612808209620/work\n",
      "ujson @ file:///C:/ci/ujson_1611241570789/work\n",
      "unicodecsv==0.14.1\n",
      "urllib3 @ file:///tmp/build/80754af9/urllib3_1615837158687/work\n",
      "visions==0.7.1\n",
      "watchdog @ file:///C:/ci/watchdog_1612471251191/work\n",
      "wcwidth @ file:///tmp/build/80754af9/wcwidth_1593447189090/work\n",
      "webencodings==0.5.1\n",
      "Werkzeug @ file:///home/ktietz/src/ci/werkzeug_1611932622770/work\n",
      "widgetsnbextension==3.5.1\n",
      "win-inet-pton @ file:///C:/ci/win_inet_pton_1605306167264/work\n",
      "win-unicode-console==0.5\n",
      "wincertstore==0.2\n",
      "wrapt==1.12.1\n",
      "xlrd @ file:///tmp/build/80754af9/xlrd_1608072521494/work\n",
      "XlsxWriter @ file:///tmp/build/80754af9/xlsxwriter_1617224712951/work\n",
      "xlwings==0.23.0\n",
      "xlwt==1.3.0\n",
      "xmltodict==0.12.0\n",
      "yapf @ file:///tmp/build/80754af9/yapf_1615749224965/work\n",
      "zict==2.0.0\n",
      "zipp @ file:///tmp/build/80754af9/zipp_1615904174917/work\n",
      "zope.event==4.5.0\n",
      "zope.interface @ file:///C:/ci/zope.interface_1616357322857/work\n"
     ]
    }
   ],
   "source": [
    "!pip freeze"
   ]
  },
  {
   "cell_type": "code",
   "execution_count": 3,
   "id": "776ac6ba",
   "metadata": {},
   "outputs": [],
   "source": [
    "import pandas as pd"
   ]
  },
  {
   "cell_type": "code",
   "execution_count": 9,
   "id": "419a7da8",
   "metadata": {},
   "outputs": [
    {
     "ename": "NameError",
     "evalue": "name 'read_csv' is not defined",
     "output_type": "error",
     "traceback": [
      "\u001b[1;31m---------------------------------------------------------------------------\u001b[0m",
      "\u001b[1;31mNameError\u001b[0m                                 Traceback (most recent call last)",
      "\u001b[1;32m<ipython-input-9-279f3feb9fb8>\u001b[0m in \u001b[0;36m<module>\u001b[1;34m\u001b[0m\n\u001b[1;32m----> 1\u001b[1;33m \u001b[0mtrain\u001b[0m \u001b[1;33m=\u001b[0m \u001b[0mread_csv\u001b[0m\u001b[1;33m(\u001b[0m\u001b[1;34m'train.csv'\u001b[0m\u001b[1;33m)\u001b[0m\u001b[1;33m\u001b[0m\u001b[1;33m\u001b[0m\u001b[0m\n\u001b[0m",
      "\u001b[1;31mNameError\u001b[0m: name 'read_csv' is not defined"
     ]
    }
   ],
   "source": [
    "train = read_csv('train.csv')"
   ]
  },
  {
   "cell_type": "code",
   "execution_count": 7,
   "id": "14043f0d",
   "metadata": {},
   "outputs": [
    {
     "name": "stdout",
     "output_type": "stream",
     "text": [
      "<class 'pandas.core.frame.DataFrame'>\n",
      "RangeIndex: 19387 entries, 0 to 19386\n",
      "Data columns (total 48 columns):\n",
      " #   Column               Non-Null Count  Dtype  \n",
      "---  ------               --------------  -----  \n",
      " 0   id                   19387 non-null  object \n",
      " 1   asins                2571 non-null   object \n",
      " 2   brand                19129 non-null  object \n",
      " 3   categories           19387 non-null  object \n",
      " 4   colors               11048 non-null  object \n",
      " 5   count                0 non-null      float64\n",
      " 6   dateadded            19387 non-null  object \n",
      " 7   dateupdated          19387 non-null  object \n",
      " 8   descriptions         9904 non-null   object \n",
      " 9   dimension            2991 non-null   object \n",
      " 10  ean                  9999 non-null   float64\n",
      " 11  features             13997 non-null  object \n",
      " 12  flavors              0 non-null      float64\n",
      " 13  imageurls            18342 non-null  object \n",
      " 14  isbn                 0 non-null      float64\n",
      " 15  keys                 19387 non-null  object \n",
      " 16  manufacturer         6699 non-null   object \n",
      " 17  manufacturernumber   15147 non-null  object \n",
      " 18  merchants            14040 non-null  object \n",
      " 19  name                 19387 non-null  object \n",
      " 20  prices_amountmin     19377 non-null  object \n",
      " 21  prices_amountmax     19387 non-null  object \n",
      " 22  prices_availability  197 non-null    object \n",
      " 23  prices_color         758 non-null    object \n",
      " 24  prices_condition     12621 non-null  object \n",
      " 25  prices_count         71 non-null     object \n",
      " 26  prices_currency      19311 non-null  object \n",
      " 27  prices_dateadded     19372 non-null  object \n",
      " 28  prices_dateseen      19362 non-null  object \n",
      " 29  prices_flavor        76 non-null     object \n",
      " 30  prices_issale        19321 non-null  object \n",
      " 31  prices_merchant      13843 non-null  object \n",
      " 32  prices_offer         6091 non-null   object \n",
      " 33  prices_returnpolicy  1018 non-null   object \n",
      " 34  prices_shipping      5753 non-null   object \n",
      " 35  prices_size          661 non-null    object \n",
      " 36  prices_source        16 non-null     object \n",
      " 37  prices_sourceurls    19281 non-null  object \n",
      " 38  prices_warranty      108 non-null    object \n",
      " 39  quantities           11 non-null     object \n",
      " 40  reviews              1664 non-null   object \n",
      " 41  sizes                5979 non-null   object \n",
      " 42  skus                 8743 non-null   object \n",
      " 43  sourceurls           19263 non-null  object \n",
      " 44  upc                  10816 non-null  object \n",
      " 45  vin                  46 non-null     object \n",
      " 46  websiteids           8 non-null      object \n",
      " 47  weight               863 non-null    object \n",
      "dtypes: float64(4), object(44)\n",
      "memory usage: 7.1+ MB\n"
     ]
    }
   ],
   "source": [
    "train.info()"
   ]
  },
  {
   "cell_type": "code",
   "execution_count": 8,
   "id": "aaeec0c7",
   "metadata": {},
   "outputs": [
    {
     "data": {
      "text/plain": [
       "0               Clothing,Shoes,Men's Shoes,All Men's Shoes\n",
       "1               Clothing,Shoes,Men's Shoes,All Men's Shoes\n",
       "2               All Men's Shoes,Shoes,Men's Shoes,Clothing\n",
       "3               All Men's Shoes,Shoes,Men's Shoes,Clothing\n",
       "4               All Men's Shoes,Shoes,Men's Shoes,Clothing\n",
       "                               ...                        \n",
       "19382      Clothing, Shoes & Accessories,Men's Shoes,Boots\n",
       "19383           Clothing,Shoes,Men's Shoes,All Men's Shoes\n",
       "19384    Women's Sunglasses,Sunglasses,Bags & Accessori...\n",
       "19385    Women's Sunglasses,Sunglasses,Bags & Accessori...\n",
       "19386    Women's Sunglasses,Sunglasses,Bags & Accessori...\n",
       "Name: categories, Length: 19387, dtype: object"
      ]
     },
     "execution_count": 8,
     "metadata": {},
     "output_type": "execute_result"
    }
   ],
   "source": [
    "train['categories']"
   ]
  },
  {
   "cell_type": "code",
   "execution_count": 10,
   "id": "be3ca101",
   "metadata": {},
   "outputs": [
    {
     "data": {
      "text/plain": [
       "array([\"Clothing,Shoes,Men's Shoes,All Men's Shoes\",\n",
       "       \"All Men's Shoes,Shoes,Men's Shoes,Clothing\",\n",
       "       \"Men's Casual Shoes,Shoes,Men's Shoes,Clothing\", ...,\n",
       "       \"Clothing,Shoes,Women's Shoes,Women's Casual Shoes,All Men's Shoes,Men's Shoes\",\n",
       "       \"Clothing, Shoes & Accessories,Men's Clothing,Jeans,See more Men's Levi's 505 Straight Leg Regular Fit Jean...\",\n",
       "       'Sports,Clothing, Shoes & Jewelry,Men,Clothing,Jackets & Coats,Active & Performance,Shells'],\n",
       "      dtype=object)"
      ]
     },
     "execution_count": 10,
     "metadata": {},
     "output_type": "execute_result"
    }
   ],
   "source": [
    "train['categories'].unique()"
   ]
  },
  {
   "cell_type": "code",
   "execution_count": 11,
   "id": "2323f943",
   "metadata": {},
   "outputs": [
    {
     "data": {
      "text/plain": [
       "All Men's Shoes,Shoes,Men's Shoes,Clothing                                                                                                             3717\n",
       "Clothing,Shoes,Men's Shoes,All Men's Shoes                                                                                                             1644\n",
       "Men's Casual Shoes,Shoes,Men's Shoes,Clothing                                                                                                           699\n",
       "All Men's Clothing,Men's Clothing,Men's Outerwear,Clothing, Shoes & Jewelry,Clothing                                                                    588\n",
       "Clothing, Shoes & Accessories,Men's Shoes,Athletic                                                                                                      400\n",
       "                                                                                                                                                       ... \n",
       "Clothing,Clothing, Shoes & Jewelry,Men,Active,Athletic Socks                                                                                              1\n",
       "Clothing, Shoes & Accessories,Men's Shoes,Athletic,See more Nike Cortez Basic Leather '06 Mens 316418-012 ...                                             1\n",
       "Active,Men,Running,Sports & Fitness,Active Base Layers,Exercise & Fitness,Clothing, Shoes & Jewelry,Tights,Sports,Sports & Outdoors,Clothing              1\n",
       "Men%27s,Gifts,Shoes,Fashions for Him,Valentine%27s Day                                                                                                    1\n",
       "Clothing, Shoes & Accessories,Men's Clothing,Wholesale, Large & Small Lots,Unisex Clothing, Shoes & Accs,Unisex Accessories,Socks & Underwear,Socks       1\n",
       "Name: categories, Length: 1264, dtype: int64"
      ]
     },
     "execution_count": 11,
     "metadata": {},
     "output_type": "execute_result"
    }
   ],
   "source": [
    "train['categories'].value_counts()"
   ]
  },
  {
   "cell_type": "code",
   "execution_count": 12,
   "id": "dea37e3c",
   "metadata": {},
   "outputs": [
    {
     "data": {
      "text/plain": [
       "All Men's Shoes,Shoes,Men's Shoes,Clothing                                              3717\n",
       "Clothing,Shoes,Men's Shoes,All Men's Shoes                                              1644\n",
       "Men's Casual Shoes,Shoes,Men's Shoes,Clothing                                            699\n",
       "All Men's Clothing,Men's Clothing,Men's Outerwear,Clothing, Shoes & Jewelry,Clothing     588\n",
       "Clothing, Shoes & Accessories,Men's Shoes,Athletic                                       400\n",
       "Clothing,Shoes,Men's Shoes,Men's Casual Shoes                                            367\n",
       "Clothing, Shoes & Accessories,Men's Accessories,Backpacks, Bags & Briefcases             289\n",
       "Home Improvement,Men's Work & Safety Shoes,Work Safety Clothing and Equipment            255\n",
       "Men's Dress Shoes,Shoes,Men's Shoes,Clothing                                             242\n",
       "Clothing, Shoes, Accessories,Men's Sunglasses                                            203\n",
       "Name: categories, dtype: int64"
      ]
     },
     "execution_count": 12,
     "metadata": {},
     "output_type": "execute_result"
    }
   ],
   "source": [
    "train['categories'].value_counts()[0:10]"
   ]
  },
  {
   "cell_type": "code",
   "execution_count": 13,
   "id": "7b1a97fb",
   "metadata": {},
   "outputs": [
    {
     "data": {
      "text/plain": [
       "0        False\n",
       "1        False\n",
       "2        False\n",
       "3        False\n",
       "4        False\n",
       "         ...  \n",
       "19382    False\n",
       "19383    False\n",
       "19384    False\n",
       "19385    False\n",
       "19386    False\n",
       "Name: categories, Length: 19387, dtype: bool"
      ]
     },
     "execution_count": 13,
     "metadata": {},
     "output_type": "execute_result"
    }
   ],
   "source": [
    "train['categories']== \"Clothing, Shoes & Accessories,Men's Shoes,Athletic\""
   ]
  },
  {
   "cell_type": "code",
   "execution_count": 15,
   "id": "6a99d3b8",
   "metadata": {},
   "outputs": [],
   "source": [
    "interest_train=train[train['categories']== \"Clothing, Shoes & Accessories,Men's Shoes,Athletic\"]"
   ]
  },
  {
   "cell_type": "code",
   "execution_count": 16,
   "id": "abc94145",
   "metadata": {},
   "outputs": [
    {
     "name": "stdout",
     "output_type": "stream",
     "text": [
      "<class 'pandas.core.frame.DataFrame'>\n",
      "Int64Index: 400 entries, 60 to 19296\n",
      "Data columns (total 48 columns):\n",
      " #   Column               Non-Null Count  Dtype  \n",
      "---  ------               --------------  -----  \n",
      " 0   id                   400 non-null    object \n",
      " 1   asins                0 non-null      object \n",
      " 2   brand                400 non-null    object \n",
      " 3   categories           400 non-null    object \n",
      " 4   colors               331 non-null    object \n",
      " 5   count                0 non-null      float64\n",
      " 6   dateadded            400 non-null    object \n",
      " 7   dateupdated          400 non-null    object \n",
      " 8   descriptions         49 non-null     object \n",
      " 9   dimension            0 non-null      object \n",
      " 10  ean                  351 non-null    float64\n",
      " 11  features             400 non-null    object \n",
      " 12  flavors              0 non-null      float64\n",
      " 13  imageurls            399 non-null    object \n",
      " 14  isbn                 0 non-null      float64\n",
      " 15  keys                 400 non-null    object \n",
      " 16  manufacturer         0 non-null      object \n",
      " 17  manufacturernumber   25 non-null     object \n",
      " 18  merchants            400 non-null    object \n",
      " 19  name                 400 non-null    object \n",
      " 20  prices_amountmin     400 non-null    object \n",
      " 21  prices_amountmax     400 non-null    object \n",
      " 22  prices_availability  0 non-null      object \n",
      " 23  prices_color         0 non-null      object \n",
      " 24  prices_condition     400 non-null    object \n",
      " 25  prices_count         0 non-null      object \n",
      " 26  prices_currency      400 non-null    object \n",
      " 27  prices_dateadded     400 non-null    object \n",
      " 28  prices_dateseen      400 non-null    object \n",
      " 29  prices_flavor        0 non-null      object \n",
      " 30  prices_issale        400 non-null    object \n",
      " 31  prices_merchant      67 non-null     object \n",
      " 32  prices_offer         163 non-null    object \n",
      " 33  prices_returnpolicy  0 non-null      object \n",
      " 34  prices_shipping      275 non-null    object \n",
      " 35  prices_size          0 non-null      object \n",
      " 36  prices_source        0 non-null      object \n",
      " 37  prices_sourceurls    400 non-null    object \n",
      " 38  prices_warranty      0 non-null      object \n",
      " 39  quantities           0 non-null      object \n",
      " 40  reviews              0 non-null      object \n",
      " 41  sizes                377 non-null    object \n",
      " 42  skus                 400 non-null    object \n",
      " 43  sourceurls           400 non-null    object \n",
      " 44  upc                  368 non-null    object \n",
      " 45  vin                  0 non-null      object \n",
      " 46  websiteids           0 non-null      object \n",
      " 47  weight               0 non-null      object \n",
      "dtypes: float64(4), object(44)\n",
      "memory usage: 153.1+ KB\n"
     ]
    }
   ],
   "source": [
    "interest_train.info()"
   ]
  },
  {
   "cell_type": "code",
   "execution_count": 18,
   "id": "83e4d6f9",
   "metadata": {},
   "outputs": [
    {
     "data": {
      "text/html": [
       "<div>\n",
       "<style scoped>\n",
       "    .dataframe tbody tr th:only-of-type {\n",
       "        vertical-align: middle;\n",
       "    }\n",
       "\n",
       "    .dataframe tbody tr th {\n",
       "        vertical-align: top;\n",
       "    }\n",
       "\n",
       "    .dataframe thead th {\n",
       "        text-align: right;\n",
       "    }\n",
       "</style>\n",
       "<table border=\"1\" class=\"dataframe\">\n",
       "  <thead>\n",
       "    <tr style=\"text-align: right;\">\n",
       "      <th></th>\n",
       "      <th>name</th>\n",
       "      <th>prices_amountmin</th>\n",
       "      <th>prices_amountmax</th>\n",
       "    </tr>\n",
       "  </thead>\n",
       "  <tbody>\n",
       "    <tr>\n",
       "      <th>60</th>\n",
       "      <td>Nike Shox Turbo Vi Sl 555341-160 White/gym Red...</td>\n",
       "      <td>119.99</td>\n",
       "      <td>119.99</td>\n",
       "    </tr>\n",
       "    <tr>\n",
       "      <th>113</th>\n",
       "      <td>Nike Jordan Flight Runner 2 Black/red/gray Men...</td>\n",
       "      <td>109.95</td>\n",
       "      <td>109.95</td>\n",
       "    </tr>\n",
       "    <tr>\n",
       "      <th>128</th>\n",
       "      <td>Nike Men's Air Max Ltd 3 (687977-002) Wolf Gre...</td>\n",
       "      <td>78.00</td>\n",
       "      <td>78.00</td>\n",
       "    </tr>\n",
       "    <tr>\n",
       "      <th>184</th>\n",
       "      <td>Nike Air Zoom Terra Kiger 2 Athletic Sneakers ...</td>\n",
       "      <td>69.99</td>\n",
       "      <td>69.99</td>\n",
       "    </tr>\n",
       "    <tr>\n",
       "      <th>202</th>\n",
       "      <td>Nib Nike Air Jordan Melo M11 Xi Hare Grey Mist...</td>\n",
       "      <td>69.99</td>\n",
       "      <td>69.99</td>\n",
       "    </tr>\n",
       "    <tr>\n",
       "      <th>...</th>\n",
       "      <td>...</td>\n",
       "      <td>...</td>\n",
       "      <td>...</td>\n",
       "    </tr>\n",
       "    <tr>\n",
       "      <th>19011</th>\n",
       "      <td>Nike Air Max Tailwind+ 5 Men Us 12 Blue Sneake...</td>\n",
       "      <td>68.99</td>\n",
       "      <td>68.99</td>\n",
       "    </tr>\n",
       "    <tr>\n",
       "      <th>19036</th>\n",
       "      <td>Adidas Lite Racer Mens Casual Running Shoe (bl...</td>\n",
       "      <td>51.99</td>\n",
       "      <td>51.99</td>\n",
       "    </tr>\n",
       "    <tr>\n",
       "      <th>19079</th>\n",
       "      <td>Nike Air Jordan Future Dark Grey Volt Sz 9 Nib</td>\n",
       "      <td>79.95</td>\n",
       "      <td>79.95</td>\n",
       "    </tr>\n",
       "    <tr>\n",
       "      <th>19080</th>\n",
       "      <td>Nike Air Jordan Future Dark Grey Volt Sz 9 Nib</td>\n",
       "      <td>99.94</td>\n",
       "      <td>99.94</td>\n",
       "    </tr>\n",
       "    <tr>\n",
       "      <th>19296</th>\n",
       "      <td>Patrick Ewing 9m Men's White/jamaica 33 High M...</td>\n",
       "      <td>44.00</td>\n",
       "      <td>44.00</td>\n",
       "    </tr>\n",
       "  </tbody>\n",
       "</table>\n",
       "<p>400 rows × 3 columns</p>\n",
       "</div>"
      ],
      "text/plain": [
       "                                                    name prices_amountmin  \\\n",
       "60     Nike Shox Turbo Vi Sl 555341-160 White/gym Red...           119.99   \n",
       "113    Nike Jordan Flight Runner 2 Black/red/gray Men...           109.95   \n",
       "128    Nike Men's Air Max Ltd 3 (687977-002) Wolf Gre...            78.00   \n",
       "184    Nike Air Zoom Terra Kiger 2 Athletic Sneakers ...            69.99   \n",
       "202    Nib Nike Air Jordan Melo M11 Xi Hare Grey Mist...            69.99   \n",
       "...                                                  ...              ...   \n",
       "19011  Nike Air Max Tailwind+ 5 Men Us 12 Blue Sneake...            68.99   \n",
       "19036  Adidas Lite Racer Mens Casual Running Shoe (bl...            51.99   \n",
       "19079     Nike Air Jordan Future Dark Grey Volt Sz 9 Nib            79.95   \n",
       "19080     Nike Air Jordan Future Dark Grey Volt Sz 9 Nib            99.94   \n",
       "19296  Patrick Ewing 9m Men's White/jamaica 33 High M...            44.00   \n",
       "\n",
       "      prices_amountmax  \n",
       "60              119.99  \n",
       "113             109.95  \n",
       "128              78.00  \n",
       "184              69.99  \n",
       "202              69.99  \n",
       "...                ...  \n",
       "19011            68.99  \n",
       "19036            51.99  \n",
       "19079            79.95  \n",
       "19080            99.94  \n",
       "19296            44.00  \n",
       "\n",
       "[400 rows x 3 columns]"
      ]
     },
     "execution_count": 18,
     "metadata": {},
     "output_type": "execute_result"
    }
   ],
   "source": [
    "interest_train.iloc[0:400,[19,20,21]]"
   ]
  },
  {
   "cell_type": "code",
   "execution_count": 20,
   "id": "1df5f6f4",
   "metadata": {
    "scrolled": true
   },
   "outputs": [
    {
     "data": {
      "text/plain": [
       "count       400\n",
       "unique      216\n",
       "top       69.99\n",
       "freq         16\n",
       "Name: prices_amountmax, dtype: object"
      ]
     },
     "execution_count": 20,
     "metadata": {},
     "output_type": "execute_result"
    }
   ],
   "source": [
    "interest_train.iloc[0:400,[19,20,21]][\"prices_amountmax\"].describe()"
   ]
  },
  {
   "cell_type": "code",
   "execution_count": 21,
   "id": "8852a1b5",
   "metadata": {},
   "outputs": [],
   "source": [
    "train_2=interest_train.iloc[0:400,[19,20,21]]"
   ]
  },
  {
   "cell_type": "code",
   "execution_count": 22,
   "id": "52066131",
   "metadata": {},
   "outputs": [
    {
     "name": "stdout",
     "output_type": "stream",
     "text": [
      "<class 'pandas.core.frame.DataFrame'>\n",
      "Int64Index: 400 entries, 60 to 19296\n",
      "Data columns (total 3 columns):\n",
      " #   Column            Non-Null Count  Dtype \n",
      "---  ------            --------------  ----- \n",
      " 0   name              400 non-null    object\n",
      " 1   prices_amountmin  400 non-null    object\n",
      " 2   prices_amountmax  400 non-null    object\n",
      "dtypes: object(3)\n",
      "memory usage: 12.5+ KB\n"
     ]
    }
   ],
   "source": [
    "train_2.info()"
   ]
  },
  {
   "cell_type": "code",
   "execution_count": 25,
   "id": "a4af13bf",
   "metadata": {},
   "outputs": [],
   "source": [
    "train_2[\"prices_amountmax\"]=train_2[\"prices_amountmax\"].astype(float)"
   ]
  },
  {
   "cell_type": "code",
   "execution_count": 26,
   "id": "b09c3c0e",
   "metadata": {},
   "outputs": [
    {
     "name": "stdout",
     "output_type": "stream",
     "text": [
      "<class 'pandas.core.frame.DataFrame'>\n",
      "Int64Index: 400 entries, 60 to 19296\n",
      "Data columns (total 3 columns):\n",
      " #   Column            Non-Null Count  Dtype  \n",
      "---  ------            --------------  -----  \n",
      " 0   name              400 non-null    object \n",
      " 1   prices_amountmin  400 non-null    object \n",
      " 2   prices_amountmax  400 non-null    float64\n",
      "dtypes: float64(1), object(2)\n",
      "memory usage: 12.5+ KB\n"
     ]
    }
   ],
   "source": [
    "train_2.info()"
   ]
  },
  {
   "cell_type": "code",
   "execution_count": null,
   "id": "b83ac55f",
   "metadata": {},
   "outputs": [],
   "source": [
    "train_2[\"prices_amountmax\"]=train_2[\"prices_amountmax\"].astype(float)"
   ]
  },
  {
   "cell_type": "code",
   "execution_count": 27,
   "id": "9f881815",
   "metadata": {},
   "outputs": [
    {
     "data": {
      "text/plain": [
       "count     400.000000\n",
       "mean       99.501800\n",
       "std       175.324776\n",
       "min         4.990000\n",
       "25%        46.990000\n",
       "50%        69.990000\n",
       "75%       104.992500\n",
       "max      2799.950000\n",
       "Name: prices_amountmax, dtype: float64"
      ]
     },
     "execution_count": 27,
     "metadata": {},
     "output_type": "execute_result"
    }
   ],
   "source": [
    "train_2['prices_amountmax'].describe()"
   ]
  },
  {
   "cell_type": "code",
   "execution_count": 33,
   "id": "02e72b5f",
   "metadata": {
    "scrolled": true
   },
   "outputs": [
    {
     "data": {
      "text/plain": [
       "1452     2799.95\n",
       "4427     1250.00\n",
       "11249    1225.00\n",
       "12444     999.00\n",
       "4894      449.99\n",
       "10452     445.00\n",
       "1304      399.50\n",
       "16561     330.00\n",
       "4895      306.00\n",
       "Name: prices_amountmax, dtype: float64"
      ]
     },
     "execution_count": 33,
     "metadata": {},
     "output_type": "execute_result"
    }
   ],
   "source": [
    "train_2['prices_amountmax'].sort_values(ascending=False)[0:9]"
   ]
  },
  {
   "cell_type": "code",
   "execution_count": 34,
   "id": "ba4fb115",
   "metadata": {},
   "outputs": [
    {
     "data": {
      "text/plain": [
       "60       False\n",
       "113      False\n",
       "128      False\n",
       "184      False\n",
       "202      False\n",
       "         ...  \n",
       "19011    False\n",
       "19036    False\n",
       "19079    False\n",
       "19080    False\n",
       "19296    False\n",
       "Name: prices_amountmax, Length: 400, dtype: bool"
      ]
     },
     "execution_count": 34,
     "metadata": {},
     "output_type": "execute_result"
    }
   ],
   "source": [
    "train_2['prices_amountmax']>=299.99"
   ]
  },
  {
   "cell_type": "code",
   "execution_count": 35,
   "id": "c1a5ad36",
   "metadata": {},
   "outputs": [
    {
     "data": {
      "text/html": [
       "<div>\n",
       "<style scoped>\n",
       "    .dataframe tbody tr th:only-of-type {\n",
       "        vertical-align: middle;\n",
       "    }\n",
       "\n",
       "    .dataframe tbody tr th {\n",
       "        vertical-align: top;\n",
       "    }\n",
       "\n",
       "    .dataframe thead th {\n",
       "        text-align: right;\n",
       "    }\n",
       "</style>\n",
       "<table border=\"1\" class=\"dataframe\">\n",
       "  <thead>\n",
       "    <tr style=\"text-align: right;\">\n",
       "      <th></th>\n",
       "      <th>name</th>\n",
       "      <th>prices_amountmin</th>\n",
       "      <th>prices_amountmax</th>\n",
       "    </tr>\n",
       "  </thead>\n",
       "  <tbody>\n",
       "    <tr>\n",
       "      <th>1304</th>\n",
       "      <td>Nike Air Jordan 6 Retro Slam Dunk Sz 11 717302...</td>\n",
       "      <td>399.50</td>\n",
       "      <td>399.50</td>\n",
       "    </tr>\n",
       "    <tr>\n",
       "      <th>1452</th>\n",
       "      <td>Yeezy Boost 350 Turtle Doves Kanye West 2015 P...</td>\n",
       "      <td>2799.95</td>\n",
       "      <td>2799.95</td>\n",
       "    </tr>\n",
       "    <tr>\n",
       "      <th>4228</th>\n",
       "      <td>\"Nike Zoom Vapor 9.5 Tour Lg \"roger Federer Li...</td>\n",
       "      <td>299.99</td>\n",
       "      <td>299.99</td>\n",
       "    </tr>\n",
       "    <tr>\n",
       "      <th>4427</th>\n",
       "      <td>Adidas Boost 350 Oxford Tan Yeezy 8us Ds With ...</td>\n",
       "      <td>1250.00</td>\n",
       "      <td>1250.00</td>\n",
       "    </tr>\n",
       "    <tr>\n",
       "      <th>4894</th>\n",
       "      <td>Vtg Og 1997 Nike Air Jordan Xii 12 S Sz 9 Flu ...</td>\n",
       "      <td>449.99</td>\n",
       "      <td>449.99</td>\n",
       "    </tr>\n",
       "    <tr>\n",
       "      <th>4895</th>\n",
       "      <td>Vtg Og 1997 Nike Air Jordan Xii 12 S Sz 9 Flu ...</td>\n",
       "      <td>306.00</td>\n",
       "      <td>306.00</td>\n",
       "    </tr>\n",
       "    <tr>\n",
       "      <th>10452</th>\n",
       "      <td>Brand New In Box Retro Air Jordan 1 Fragment B...</td>\n",
       "      <td>445.00</td>\n",
       "      <td>445.00</td>\n",
       "    </tr>\n",
       "    <tr>\n",
       "      <th>11249</th>\n",
       "      <td>Nike Air Jordan Xii 12 Rare Wings Men's Shoes ...</td>\n",
       "      <td>1225.00</td>\n",
       "      <td>1225.00</td>\n",
       "    </tr>\n",
       "    <tr>\n",
       "      <th>12444</th>\n",
       "      <td>Adidas Yeezy Boost 350 Pirate Black Sz 9 - 100...</td>\n",
       "      <td>999.00</td>\n",
       "      <td>999.00</td>\n",
       "    </tr>\n",
       "    <tr>\n",
       "      <th>16561</th>\n",
       "      <td>Nike Air Jordan 11 Xi Retro Concord White/blac...</td>\n",
       "      <td>330.00</td>\n",
       "      <td>330.00</td>\n",
       "    </tr>\n",
       "  </tbody>\n",
       "</table>\n",
       "</div>"
      ],
      "text/plain": [
       "                                                    name prices_amountmin  \\\n",
       "1304   Nike Air Jordan 6 Retro Slam Dunk Sz 11 717302...           399.50   \n",
       "1452   Yeezy Boost 350 Turtle Doves Kanye West 2015 P...          2799.95   \n",
       "4228   \"Nike Zoom Vapor 9.5 Tour Lg \"roger Federer Li...           299.99   \n",
       "4427   Adidas Boost 350 Oxford Tan Yeezy 8us Ds With ...          1250.00   \n",
       "4894   Vtg Og 1997 Nike Air Jordan Xii 12 S Sz 9 Flu ...           449.99   \n",
       "4895   Vtg Og 1997 Nike Air Jordan Xii 12 S Sz 9 Flu ...           306.00   \n",
       "10452  Brand New In Box Retro Air Jordan 1 Fragment B...           445.00   \n",
       "11249  Nike Air Jordan Xii 12 Rare Wings Men's Shoes ...          1225.00   \n",
       "12444  Adidas Yeezy Boost 350 Pirate Black Sz 9 - 100...           999.00   \n",
       "16561  Nike Air Jordan 11 Xi Retro Concord White/blac...           330.00   \n",
       "\n",
       "       prices_amountmax  \n",
       "1304             399.50  \n",
       "1452            2799.95  \n",
       "4228             299.99  \n",
       "4427            1250.00  \n",
       "4894             449.99  \n",
       "4895             306.00  \n",
       "10452            445.00  \n",
       "11249           1225.00  \n",
       "12444            999.00  \n",
       "16561            330.00  "
      ]
     },
     "execution_count": 35,
     "metadata": {},
     "output_type": "execute_result"
    }
   ],
   "source": [
    "train_2[train_2['prices_amountmax']>=299.99]"
   ]
  }
 ],
 "metadata": {
  "kernelspec": {
   "display_name": "Python 3",
   "language": "python",
   "name": "python3"
  },
  "language_info": {
   "codemirror_mode": {
    "name": "ipython",
    "version": 3
   },
   "file_extension": ".py",
   "mimetype": "text/x-python",
   "name": "python",
   "nbconvert_exporter": "python",
   "pygments_lexer": "ipython3",
   "version": "3.8.8"
  }
 },
 "nbformat": 4,
 "nbformat_minor": 5
}
